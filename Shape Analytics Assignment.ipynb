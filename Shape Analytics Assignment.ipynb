{
 "cells": [
  {
   "cell_type": "markdown",
   "metadata": {},
   "source": [
    "# Analytics Assignment"
   ]
  },
  {
   "cell_type": "markdown",
   "metadata": {},
   "source": [
    "Let's peek at the data."
   ]
  },
  {
   "cell_type": "code",
   "execution_count": 1087,
   "metadata": {},
   "outputs": [],
   "source": [
    "%matplotlib inline\n",
    "import numpy as np\n",
    "import pandas as pd\n",
    "import matplotlib.pyplot as plt\n",
    "from statsmodels.tsa.seasonal import seasonal_decompose\n",
    "from sklearn.model_selection import train_test_split\n",
    "from sklearn.linear_model import LogisticRegression\n",
    "from sklearn import metrics"
   ]
  },
  {
   "cell_type": "code",
   "execution_count": 1088,
   "metadata": {
    "scrolled": false
   },
   "outputs": [
    {
     "name": "stdout",
     "output_type": "stream",
     "text": [
      "<class 'pandas.core.frame.DataFrame'>\n",
      "RangeIndex: 4877420 entries, 0 to 4877419\n",
      "Data columns (total 7 columns):\n",
      "_timestamp       datetime64[ns]\n",
      "asn              object\n",
      "ip               object\n",
      "account          object\n",
      "user_agent       object\n",
      "fingerprint      object\n",
      "is_successful    int64\n",
      "dtypes: datetime64[ns](1), int64(1), object(5)\n",
      "memory usage: 260.5+ MB\n"
     ]
    }
   ],
   "source": [
    "df = pd.read_csv('traffic_sample.csv')\n",
    "df['_timestamp'] = pd.to_datetime(df['_timestamp'].str.replace(' UTC', '' ), format='%Y-%m-%d %H:%M:%S.%f')\n",
    "df.info()"
   ]
  },
  {
   "cell_type": "markdown",
   "metadata": {},
   "source": [
    "* **_timestamp** - the date and time of the attempted login\n",
    "* **asn** - the unique name of the system that attempted the login\n",
    "* **ip** - the IP address of the machine that attempted the login\n",
    "* **account** - the username used during the attempted login\n",
    "* **user_agent** - the browser used during the attempted login\n",
    "* **fingerprint** - the fingerprint of the attempted login\n",
    "* **is_successful** - boolean indicating if the attempted login was successful"
   ]
  },
  {
   "cell_type": "code",
   "execution_count": 1089,
   "metadata": {
    "scrolled": true
   },
   "outputs": [
    {
     "data": {
      "text/html": [
       "<div>\n",
       "<style scoped>\n",
       "    .dataframe tbody tr th:only-of-type {\n",
       "        vertical-align: middle;\n",
       "    }\n",
       "\n",
       "    .dataframe tbody tr th {\n",
       "        vertical-align: top;\n",
       "    }\n",
       "\n",
       "    .dataframe thead th {\n",
       "        text-align: right;\n",
       "    }\n",
       "</style>\n",
       "<table border=\"1\" class=\"dataframe\">\n",
       "  <thead>\n",
       "    <tr style=\"text-align: right;\">\n",
       "      <th></th>\n",
       "      <th>_timestamp</th>\n",
       "      <th>asn</th>\n",
       "      <th>ip</th>\n",
       "      <th>account</th>\n",
       "      <th>user_agent</th>\n",
       "      <th>fingerprint</th>\n",
       "      <th>is_successful</th>\n",
       "    </tr>\n",
       "  </thead>\n",
       "  <tbody>\n",
       "    <tr>\n",
       "      <th>0</th>\n",
       "      <td>2019-02-26 23:59:53.795</td>\n",
       "      <td>Boar</td>\n",
       "      <td>4ed5.131.12.161</td>\n",
       "      <td>9jl+ubSARg</td>\n",
       "      <td>9f0a657d28</td>\n",
       "      <td>a6aa7e0552</td>\n",
       "      <td>0</td>\n",
       "    </tr>\n",
       "    <tr>\n",
       "      <th>1</th>\n",
       "      <td>2019-02-26 23:59:56.681</td>\n",
       "      <td>Blacktip Reef Shark</td>\n",
       "      <td>4ed5.89.55.222</td>\n",
       "      <td>tE9q8BwFG8</td>\n",
       "      <td>9f0a657d28</td>\n",
       "      <td>a6aa7e0552</td>\n",
       "      <td>0</td>\n",
       "    </tr>\n",
       "    <tr>\n",
       "      <th>2</th>\n",
       "      <td>2019-02-26 23:58:47.484</td>\n",
       "      <td>Caribou</td>\n",
       "      <td>12cf.87.176.70</td>\n",
       "      <td>H6vaD/O2rr</td>\n",
       "      <td>9f0a657d28</td>\n",
       "      <td>a6aa7e0552</td>\n",
       "      <td>0</td>\n",
       "    </tr>\n",
       "    <tr>\n",
       "      <th>3</th>\n",
       "      <td>2019-02-26 23:59:07.429</td>\n",
       "      <td>Bearded Dragon</td>\n",
       "      <td>fc4e.222.152.73</td>\n",
       "      <td>VQZMh1bCq8</td>\n",
       "      <td>9f0a657d28</td>\n",
       "      <td>a6aa7e0552</td>\n",
       "      <td>0</td>\n",
       "    </tr>\n",
       "    <tr>\n",
       "      <th>4</th>\n",
       "      <td>2019-02-26 23:59:47.459</td>\n",
       "      <td>Bird</td>\n",
       "      <td>21a8.113.225.114</td>\n",
       "      <td>yDSiAT2D82</td>\n",
       "      <td>9f0a657d28</td>\n",
       "      <td>a6aa7e0552</td>\n",
       "      <td>0</td>\n",
       "    </tr>\n",
       "  </tbody>\n",
       "</table>\n",
       "</div>"
      ],
      "text/plain": [
       "               _timestamp                  asn                ip     account  \\\n",
       "0 2019-02-26 23:59:53.795                 Boar   4ed5.131.12.161  9jl+ubSARg   \n",
       "1 2019-02-26 23:59:56.681  Blacktip Reef Shark    4ed5.89.55.222  tE9q8BwFG8   \n",
       "2 2019-02-26 23:58:47.484              Caribou    12cf.87.176.70  H6vaD/O2rr   \n",
       "3 2019-02-26 23:59:07.429       Bearded Dragon   fc4e.222.152.73  VQZMh1bCq8   \n",
       "4 2019-02-26 23:59:47.459                 Bird  21a8.113.225.114  yDSiAT2D82   \n",
       "\n",
       "   user_agent fingerprint  is_successful  \n",
       "0  9f0a657d28  a6aa7e0552              0  \n",
       "1  9f0a657d28  a6aa7e0552              0  \n",
       "2  9f0a657d28  a6aa7e0552              0  \n",
       "3  9f0a657d28  a6aa7e0552              0  \n",
       "4  9f0a657d28  a6aa7e0552              0  "
      ]
     },
     "execution_count": 1089,
     "metadata": {},
     "output_type": "execute_result"
    }
   ],
   "source": [
    "df.head()"
   ]
  },
  {
   "cell_type": "markdown",
   "metadata": {},
   "source": [
    "First, let's try to label some of the more egregious bot traffic.\n",
    "\n",
    "If a username is being used to log in across a large number of IP addresses, it most likely means the username has been stolen, and if a device is attempting to log in with a stolen username, it is most likely a bot.\n",
    "\n",
    "Let's figure out which usernames have been stolen."
   ]
  },
  {
   "cell_type": "code",
   "execution_count": 1090,
   "metadata": {},
   "outputs": [
    {
     "data": {
      "text/html": [
       "<div>\n",
       "<style scoped>\n",
       "    .dataframe tbody tr th:only-of-type {\n",
       "        vertical-align: middle;\n",
       "    }\n",
       "\n",
       "    .dataframe tbody tr th {\n",
       "        vertical-align: top;\n",
       "    }\n",
       "\n",
       "    .dataframe thead th {\n",
       "        text-align: right;\n",
       "    }\n",
       "</style>\n",
       "<table border=\"1\" class=\"dataframe\">\n",
       "  <thead>\n",
       "    <tr style=\"text-align: right;\">\n",
       "      <th></th>\n",
       "      <th>unique_ip_count</th>\n",
       "      <th>unique_asn_count</th>\n",
       "      <th>unique_user_agent_count</th>\n",
       "      <th>unique_fingerprint_count</th>\n",
       "      <th>login_attempt_count</th>\n",
       "      <th>login_success_count</th>\n",
       "      <th>traffic_started_on</th>\n",
       "    </tr>\n",
       "    <tr>\n",
       "      <th>account</th>\n",
       "      <th></th>\n",
       "      <th></th>\n",
       "      <th></th>\n",
       "      <th></th>\n",
       "      <th></th>\n",
       "      <th></th>\n",
       "      <th></th>\n",
       "    </tr>\n",
       "  </thead>\n",
       "  <tbody>\n",
       "    <tr>\n",
       "      <th>47DEQpj8HB</th>\n",
       "      <td>920945</td>\n",
       "      <td>55</td>\n",
       "      <td>563</td>\n",
       "      <td>8</td>\n",
       "      <td>1820355</td>\n",
       "      <td>1812565</td>\n",
       "      <td>2019-02-25 00:00:00.090</td>\n",
       "    </tr>\n",
       "    <tr>\n",
       "      <th>H4zXlbnMEA</th>\n",
       "      <td>385676</td>\n",
       "      <td>56</td>\n",
       "      <td>5332</td>\n",
       "      <td>9</td>\n",
       "      <td>660241</td>\n",
       "      <td>610458</td>\n",
       "      <td>2019-02-25 00:00:00.356</td>\n",
       "    </tr>\n",
       "    <tr>\n",
       "      <th>MCdjQmonCz</th>\n",
       "      <td>9165</td>\n",
       "      <td>25</td>\n",
       "      <td>1895</td>\n",
       "      <td>1</td>\n",
       "      <td>11493</td>\n",
       "      <td>10678</td>\n",
       "      <td>2019-02-25 00:00:05.704</td>\n",
       "    </tr>\n",
       "    <tr>\n",
       "      <th>NygkDML5IM</th>\n",
       "      <td>4082</td>\n",
       "      <td>21</td>\n",
       "      <td>1064</td>\n",
       "      <td>1</td>\n",
       "      <td>4887</td>\n",
       "      <td>4572</td>\n",
       "      <td>2019-02-25 00:00:08.775</td>\n",
       "    </tr>\n",
       "    <tr>\n",
       "      <th>ZzFgMH1SU+</th>\n",
       "      <td>3745</td>\n",
       "      <td>23</td>\n",
       "      <td>958</td>\n",
       "      <td>1</td>\n",
       "      <td>4512</td>\n",
       "      <td>4228</td>\n",
       "      <td>2019-02-25 00:01:35.740</td>\n",
       "    </tr>\n",
       "  </tbody>\n",
       "</table>\n",
       "</div>"
      ],
      "text/plain": [
       "            unique_ip_count  unique_asn_count  unique_user_agent_count  \\\n",
       "account                                                                  \n",
       "47DEQpj8HB           920945                55                      563   \n",
       "H4zXlbnMEA           385676                56                     5332   \n",
       "MCdjQmonCz             9165                25                     1895   \n",
       "NygkDML5IM             4082                21                     1064   \n",
       "ZzFgMH1SU+             3745                23                      958   \n",
       "\n",
       "            unique_fingerprint_count  login_attempt_count  \\\n",
       "account                                                     \n",
       "47DEQpj8HB                         8              1820355   \n",
       "H4zXlbnMEA                         9               660241   \n",
       "MCdjQmonCz                         1                11493   \n",
       "NygkDML5IM                         1                 4887   \n",
       "ZzFgMH1SU+                         1                 4512   \n",
       "\n",
       "            login_success_count      traffic_started_on  \n",
       "account                                                  \n",
       "47DEQpj8HB              1812565 2019-02-25 00:00:00.090  \n",
       "H4zXlbnMEA               610458 2019-02-25 00:00:00.356  \n",
       "MCdjQmonCz                10678 2019-02-25 00:00:05.704  \n",
       "NygkDML5IM                 4572 2019-02-25 00:00:08.775  \n",
       "ZzFgMH1SU+                 4228 2019-02-25 00:01:35.740  "
      ]
     },
     "execution_count": 1090,
     "metadata": {},
     "output_type": "execute_result"
    }
   ],
   "source": [
    "df.groupby('account').agg({'ip':'nunique', 'asn':'nunique', 'user_agent':'nunique', 'fingerprint':'nunique', 'account':'count', 'is_successful':'sum', '_timestamp':'min'}).rename(columns={'ip':'unique_ip_count', 'asn':'unique_asn_count', 'user_agent':'unique_user_agent_count', 'fingerprint':'unique_fingerprint_count', 'account':'login_attempt_count', 'is_successful':'login_success_count', '_timestamp':'traffic_started_on'}).sort_values('unique_ip_count', ascending=False).head(5)"
   ]
  },
  {
   "cell_type": "markdown",
   "metadata": {},
   "source": [
    "This looks...questionable. Could a single username really have been used by **1 million** different devices with such a high log in success rate? The instructions indicate that the values in the account column are just **extracts** of the full hash, so username '47DEQpj8HB' most likely represents **many** unique usernames. So much for that."
   ]
  },
  {
   "cell_type": "markdown",
   "metadata": {},
   "source": [
    "Per tip #3 from our colleague, we should be able to label IP addresses that use large numbers of usernames *unsuccessfully* as bots."
   ]
  },
  {
   "cell_type": "code",
   "execution_count": 1091,
   "metadata": {},
   "outputs": [],
   "source": [
    "ips = df.groupby('ip').agg({'account':'nunique', 'is_successful':'sum', 'ip':'count'}).rename(columns={'account':'unique_account_count', 'ip':'login_attempt_count', 'is_successful':'login_success_count'}).sort_values('unique_account_count', ascending=False)\n",
    "ips['login_success_rate'] = ips.login_success_count / ips.login_attempt_count\n",
    "ips.drop(['login_success_count', 'login_attempt_count'], axis=1, inplace=True)\n",
    "ips['is_bot'] = (ips.unique_account_count >= 5.0) & (ips.login_success_rate <= 0.1)\n",
    "df = pd.merge(df, ips[ips['is_bot'] == 1].is_bot, on='ip', how='left')\n",
    "df.is_bot.fillna(False, inplace=True)"
   ]
  },
  {
   "cell_type": "code",
   "execution_count": 1092,
   "metadata": {},
   "outputs": [
    {
     "data": {
      "text/plain": [
       "False    4397824\n",
       "True      479596\n",
       "Name: is_bot, dtype: int64"
      ]
     },
     "execution_count": 1092,
     "metadata": {},
     "output_type": "execute_result"
    }
   ],
   "source": [
    "df.is_bot.value_counts()"
   ]
  },
  {
   "cell_type": "markdown",
   "metadata": {},
   "source": [
    "Let's see if this traffic follows a non-diurnal pattern per tip #1."
   ]
  },
  {
   "cell_type": "code",
   "execution_count": 1093,
   "metadata": {
    "scrolled": false
   },
   "outputs": [
    {
     "data": {
      "image/png": "[encoded data removed]",
      "text/plain": [
       "<Figure size 432x288 with 4 Axes>"
      ]
     },
     "metadata": {
      "needs_background": "light"
     },
     "output_type": "display_data"
    }
   ],
   "source": [
    "df.set_index(df['_timestamp'].dt.floor('h'), inplace=True)\n",
    "result = seasonal_decompose(df[df['is_bot'] == True].index.value_counts().sort_index().asfreq('H', fill_value=0), model='additive')\n",
    "result.plot()\n",
    "plt.show()"
   ]
  },
  {
   "cell_type": "markdown",
   "metadata": {},
   "source": [
    "Two hours of data are missing from 12am-1am on Feb 27, but even without, this as a suspicious pattern. Let's look at the traffic we have inversely identified as human."
   ]
  },
  {
   "cell_type": "code",
   "execution_count": 1094,
   "metadata": {},
   "outputs": [
    {
     "data": {
      "image/png": "[encoded data removed]",
      "text/plain": [
       "<Figure size 432x288 with 4 Axes>"
      ]
     },
     "metadata": {
      "needs_background": "light"
     },
     "output_type": "display_data"
    }
   ],
   "source": [
    "result = seasonal_decompose(df[df['is_bot'] == False].index.value_counts().sort_index().asfreq('H', fill_value=0), model='additive')\n",
    "result.plot()\n",
    "plt.show()"
   ]
  },
  {
   "cell_type": "markdown",
   "metadata": {},
   "source": [
    "Despite the two missing ours, this is a diurnal pattern, so we're on the right track."
   ]
  },
  {
   "cell_type": "markdown",
   "metadata": {},
   "source": [
    "Tip #3 says that botnets use limited IP ranges. Let's get the login success rate by IP range."
   ]
  },
  {
   "cell_type": "code",
   "execution_count": 1095,
   "metadata": {},
   "outputs": [
    {
     "data": {
      "text/html": [
       "<div>\n",
       "<style scoped>\n",
       "    .dataframe tbody tr th:only-of-type {\n",
       "        vertical-align: middle;\n",
       "    }\n",
       "\n",
       "    .dataframe tbody tr th {\n",
       "        vertical-align: top;\n",
       "    }\n",
       "\n",
       "    .dataframe thead th {\n",
       "        text-align: right;\n",
       "    }\n",
       "</style>\n",
       "<table border=\"1\" class=\"dataframe\">\n",
       "  <thead>\n",
       "    <tr style=\"text-align: right;\">\n",
       "      <th></th>\n",
       "      <th>unique_ip_count</th>\n",
       "      <th>login_attempt_count</th>\n",
       "      <th>login_success_count</th>\n",
       "      <th>login_success_rate</th>\n",
       "    </tr>\n",
       "    <tr>\n",
       "      <th>ip_range</th>\n",
       "      <th></th>\n",
       "      <th></th>\n",
       "      <th></th>\n",
       "      <th></th>\n",
       "    </tr>\n",
       "  </thead>\n",
       "  <tbody>\n",
       "    <tr>\n",
       "      <th>2606.58.21</th>\n",
       "      <td>256</td>\n",
       "      <td>45150</td>\n",
       "      <td>42117</td>\n",
       "      <td>0.932824</td>\n",
       "    </tr>\n",
       "    <tr>\n",
       "      <th>2606.58.12</th>\n",
       "      <td>256</td>\n",
       "      <td>28100</td>\n",
       "      <td>26089</td>\n",
       "      <td>0.928434</td>\n",
       "    </tr>\n",
       "    <tr>\n",
       "      <th>1466.171.81</th>\n",
       "      <td>94</td>\n",
       "      <td>26662</td>\n",
       "      <td>1</td>\n",
       "      <td>0.000038</td>\n",
       "    </tr>\n",
       "    <tr>\n",
       "      <th>708a.77.245</th>\n",
       "      <td>12</td>\n",
       "      <td>25421</td>\n",
       "      <td>22564</td>\n",
       "      <td>0.887613</td>\n",
       "    </tr>\n",
       "    <tr>\n",
       "      <th>2606.58.23</th>\n",
       "      <td>130</td>\n",
       "      <td>22713</td>\n",
       "      <td>21237</td>\n",
       "      <td>0.935015</td>\n",
       "    </tr>\n",
       "  </tbody>\n",
       "</table>\n",
       "</div>"
      ],
      "text/plain": [
       "             unique_ip_count  login_attempt_count  login_success_count  \\\n",
       "ip_range                                                                 \n",
       "2606.58.21               256                45150                42117   \n",
       "2606.58.12               256                28100                26089   \n",
       "1466.171.81               94                26662                    1   \n",
       "708a.77.245               12                25421                22564   \n",
       "2606.58.23               130                22713                21237   \n",
       "\n",
       "             login_success_rate  \n",
       "ip_range                         \n",
       "2606.58.21             0.932824  \n",
       "2606.58.12             0.928434  \n",
       "1466.171.81            0.000038  \n",
       "708a.77.245            0.887613  \n",
       "2606.58.23             0.935015  "
      ]
     },
     "execution_count": 1095,
     "metadata": {},
     "output_type": "execute_result"
    }
   ],
   "source": [
    "df['ip_range'] = df['ip'].str.replace(r'\\.\\d+$', '')\n",
    "ip_ranges = df.groupby('ip_range').agg({'ip':'nunique', 'account':'count', 'is_successful':'sum'}).rename(columns={'ip':'unique_ip_count', 'account':'login_attempt_count', 'is_successful':'login_success_count'}).sort_values('login_attempt_count', ascending=False)\n",
    "ip_ranges['login_success_rate'] = ip_ranges.login_success_count / ip_ranges.login_attempt_count\n",
    "ip_ranges.head()"
   ]
  },
  {
   "cell_type": "code",
   "execution_count": 1096,
   "metadata": {},
   "outputs": [
    {
     "data": {
      "text/plain": [
       "False    4360310\n",
       "True      517110\n",
       "Name: is_bot, dtype: int64"
      ]
     },
     "execution_count": 1096,
     "metadata": {},
     "output_type": "execute_result"
    }
   ],
   "source": [
    "ip_ranges['is_bot'] = (ip_ranges.login_attempt_count >= 5) & (ip_ranges.login_success_rate <= 0.1)\n",
    "df = pd.merge(df, ip_ranges[ip_ranges['is_bot'] == 1].is_bot, on='ip_range', how='left')\n",
    "df['is_bot'] = df.is_bot_x | df.is_bot_y\n",
    "df.drop(['is_bot_x', 'is_bot_y'], axis=1, inplace=True)\n",
    "df.is_bot.value_counts()"
   ]
  },
  {
   "cell_type": "markdown",
   "metadata": {},
   "source": [
    "Added about 30K labels! Nice!\n",
    "\n",
    "Let's start fulfilling the requirements of the assignment now. We'll skip #1 until we've engineered all the features for our model."
   ]
  },
  {
   "cell_type": "markdown",
   "metadata": {},
   "source": [
    "## 2. A visualization of the traffic sample."
   ]
  },
  {
   "cell_type": "code",
   "execution_count": 1097,
   "metadata": {},
   "outputs": [
    {
     "data": {
      "text/plain": [
       "<matplotlib.axes._subplots.AxesSubplot at 0xe8e42f860>"
      ]
     },
     "execution_count": 1097,
     "metadata": {},
     "output_type": "execute_result"
    },
    {
     "data": {
      "image/png": "[encoded data removed]",
      "text/plain": [
       "<Figure size 864x648 with 1 Axes>"
      ]
     },
     "metadata": {
      "needs_background": "light"
     },
     "output_type": "display_data"
    }
   ],
   "source": [
    "df.groupby([df['_timestamp'].dt.floor('h'),'is_bot']).count()['ip'].unstack().plot(subplots=False, figsize=(12, 9))"
   ]
  },
  {
   "cell_type": "markdown",
   "metadata": {},
   "source": [
    "## 3a. What percentage of the traffic sample is automated traffic?"
   ]
  },
  {
   "cell_type": "code",
   "execution_count": 1098,
   "metadata": {},
   "outputs": [
    {
     "data": {
      "text/plain": [
       "False    0.893979\n",
       "True     0.106021\n",
       "Name: is_bot, dtype: float64"
      ]
     },
     "execution_count": 1098,
     "metadata": {},
     "output_type": "execute_result"
    }
   ],
   "source": [
    "df.is_bot.value_counts(normalize=True)"
   ]
  },
  {
   "cell_type": "markdown",
   "metadata": {},
   "source": [
    "## 3b. What is the login success rate (i) Overall (ii) For human traffic (iii) For automated traffic"
   ]
  },
  {
   "cell_type": "markdown",
   "metadata": {},
   "source": [
    "(i) Overall"
   ]
  },
  {
   "cell_type": "code",
   "execution_count": 1099,
   "metadata": {},
   "outputs": [
    {
     "data": {
      "text/plain": [
       "0.8310805712856387"
      ]
     },
     "execution_count": 1099,
     "metadata": {},
     "output_type": "execute_result"
    }
   ],
   "source": [
    "logins = df.agg({'ip':'count', 'is_successful':'sum'}).rename(columns={'ip':'login_attempt_count', 'is_successful':'login_success_count'})\n",
    "logins.loc['is_successful'] / logins.loc['ip']\n",
    "\n"
   ]
  },
  {
   "cell_type": "markdown",
   "metadata": {},
   "source": [
    "(ii) For human traffic"
   ]
  },
  {
   "cell_type": "code",
   "execution_count": 1100,
   "metadata": {},
   "outputs": [
    {
     "data": {
      "text/plain": [
       "0.9294123582956257"
      ]
     },
     "execution_count": 1100,
     "metadata": {},
     "output_type": "execute_result"
    }
   ],
   "source": [
    "logins = df[df.is_bot == False].agg({'ip':'count', 'is_successful':'sum'}).rename(columns={'ip':'login_attempt_count', 'is_successful':'login_success_count'})\n",
    "logins.loc['is_successful'] / logins.loc['ip']\n",
    "\n"
   ]
  },
  {
   "cell_type": "markdown",
   "metadata": {},
   "source": [
    "(iii) For automated traffic"
   ]
  },
  {
   "cell_type": "code",
   "execution_count": 1101,
   "metadata": {},
   "outputs": [
    {
     "data": {
      "text/plain": [
       "0.001939625998336911"
      ]
     },
     "execution_count": 1101,
     "metadata": {},
     "output_type": "execute_result"
    }
   ],
   "source": [
    "logins = df[df.is_bot == True].agg({'ip':'count', 'is_successful':'sum'}).rename(columns={'ip':'login_attempt_count', 'is_successful':'login_success_count'})\n",
    "logins.loc['is_successful'] / logins.loc['ip']"
   ]
  },
  {
   "cell_type": "markdown",
   "metadata": {},
   "source": [
    "## 3c. What are the top (i) ASNs (ii) Fingerprints (iii) User agents for automated traffic?"
   ]
  },
  {
   "cell_type": "markdown",
   "metadata": {},
   "source": [
    "(i) ASNS"
   ]
  },
  {
   "cell_type": "code",
   "execution_count": 1102,
   "metadata": {},
   "outputs": [
    {
     "data": {
      "text/plain": [
       "asn\n",
       "Aardvark                 182031\n",
       "Aardwolf                  85097\n",
       "Anteater                  27085\n",
       "Antelope                  20785\n",
       "Aye-Aye                   10311\n",
       "Bandicoot                  8724\n",
       "African Tree Pangolin      8641\n",
       "Anthropod                  7929\n",
       "Bearded Dragon             7718\n",
       "Bat                        7645\n",
       "Beluga Whale               7116\n",
       "Bangle Tiger               6967\n",
       "Ape                        6837\n",
       "Billy Goat                 6639\n",
       "Bird                       5921\n",
       "Bison                      5692\n",
       "Asian Elephant             5353\n",
       "Black Rhino                5158\n",
       "Blue Whale                 4923\n",
       "Black Howler Monkey        4847\n",
       "Black Footed Rhino         4716\n",
       "Bobcat                     4555\n",
       "Blacktip Reef Shark        4366\n",
       "Bengal Tiger               4199\n",
       "Brown Bear                 4072\n",
       "                          ...  \n",
       "Cattle                     2860\n",
       "Caribou                    2779\n",
       "Common Dolphin             2735\n",
       "Common Seal                2599\n",
       "Black Bear                 2526\n",
       "Beaver                     2479\n",
       "Cougar                     2348\n",
       "Coyote                     2219\n",
       "Cow                        2202\n",
       "Bottlenose Dolphin         2165\n",
       "Chinchilla                 2046\n",
       "Badger                     1709\n",
       "Buffalo                    1699\n",
       "Capuchin Monkey            1560\n",
       "Cat                        1525\n",
       "Chipmunk                   1297\n",
       "Coral                      1021\n",
       "Blue Shark                  878\n",
       "Armadillo                   765\n",
       "Cheetah                     723\n",
       "Capybara                    474\n",
       "Big-Horned Sheep            453\n",
       "Alligator                    30\n",
       "Alpaca                       21\n",
       "African Elephant              6\n",
       "Name: ip, Length: 59, dtype: int64"
      ]
     },
     "execution_count": 1102,
     "metadata": {},
     "output_type": "execute_result"
    }
   ],
   "source": [
    "df[df.is_bot == True].groupby('asn').count().sort_values('ip', ascending=False)['ip']"
   ]
  },
  {
   "cell_type": "markdown",
   "metadata": {},
   "source": [
    "(ii) Fingerprints"
   ]
  },
  {
   "cell_type": "code",
   "execution_count": 1103,
   "metadata": {},
   "outputs": [
    {
     "data": {
      "text/plain": [
       "fingerprint\n",
       "f672c6ea9c    293700\n",
       "b747f0cc00     99742\n",
       "a6aa7e0552     84368\n",
       "bb8c1fc381     33614\n",
       "f6c6dae97c      1856\n",
       "56e485800a      1765\n",
       "ebc1e6a4f8       678\n",
       "5a6044dc6c       635\n",
       "c66d7ff0ea       403\n",
       "245f996195       186\n",
       "57963cd951       113\n",
       "da7fcce28f        18\n",
       "d93a4d7463         9\n",
       "d9888e2175         6\n",
       "7f7d9648bd         5\n",
       "5688ce594b         5\n",
       "9c0f6f6b2a         4\n",
       "e4ab0181b9         3\n",
       "Name: ip, dtype: int64"
      ]
     },
     "execution_count": 1103,
     "metadata": {},
     "output_type": "execute_result"
    }
   ],
   "source": [
    "df[df.is_bot == True].groupby('fingerprint').count().sort_values('ip', ascending=False)['ip']"
   ]
  },
  {
   "cell_type": "markdown",
   "metadata": {},
   "source": [
    "(iii) User agents"
   ]
  },
  {
   "cell_type": "code",
   "execution_count": 1104,
   "metadata": {},
   "outputs": [
    {
     "data": {
      "text/plain": [
       "user_agent\n",
       "9f0a657d28    84988\n",
       "c3de0d9a7c      415\n",
       "7e57ff0758       80\n",
       "8b1aba0808       37\n",
       "cba4767ccc       36\n",
       "cb1d377cf7       36\n",
       "3bfa188e99       36\n",
       "8b457a5e50       35\n",
       "e0c6f26634       35\n",
       "376e88d9a3       35\n",
       "d455b9ccad       35\n",
       "b4ffc05020       35\n",
       "2bfa0fc8ee       34\n",
       "a2bbdf558e       34\n",
       "26f8c93632       34\n",
       "6b3cc6fd09       33\n",
       "4620e23beb       33\n",
       "68a8291023       33\n",
       "00b785af0a       33\n",
       "f40d25b96b       32\n",
       "c75e649b26       32\n",
       "e44fa0ef90       32\n",
       "ef80a5e774       32\n",
       "0a2334e7f7       32\n",
       "39b38a9c57       32\n",
       "              ...  \n",
       "660581aed9        1\n",
       "6604be1371        1\n",
       "66038f396c        1\n",
       "660340b3fa        1\n",
       "6602b70221        1\n",
       "6601f92618        1\n",
       "660192e06c        1\n",
       "660083520a        1\n",
       "65fe886bcd        1\n",
       "65fd33123f        1\n",
       "65fb9fa531        1\n",
       "65f2922be7        1\n",
       "65fb6452d9        1\n",
       "65fa752b0d        1\n",
       "65f7f37fd3        1\n",
       "65f7d51781        1\n",
       "65f72c604b        1\n",
       "65f72c09a4        1\n",
       "65f6b921bd        1\n",
       "65f67ca224        1\n",
       "65f6733c4c        1\n",
       "65f5aaa8f3        1\n",
       "65f3fdc67e        1\n",
       "65f2bed90e        1\n",
       "fffff69146        1\n",
       "Name: ip, Length: 153834, dtype: int64"
      ]
     },
     "execution_count": 1104,
     "metadata": {},
     "output_type": "execute_result"
    }
   ],
   "source": [
    "df[df.is_bot == True].groupby('user_agent').count().sort_values('ip', ascending=False)['ip']"
   ]
  },
  {
   "cell_type": "markdown",
   "metadata": {},
   "source": [
    "## Let's engineer features for our model\n",
    "\n",
    "1. Automated traffic follows a non-diurnal pattern"
   ]
  },
  {
   "cell_type": "markdown",
   "metadata": {},
   "source": [
    "As we have seen, automated traffic is more spread out across the day than its human counterpart because humans sleep and bots do not. To capture the degree to which traffic varies throughout the day, we will calculate the hourly variance.\n",
    "\n",
    "First, we need to extract the hour from the timestamp."
   ]
  },
  {
   "cell_type": "code",
   "execution_count": 1105,
   "metadata": {},
   "outputs": [],
   "source": [
    "df['hour'] = df._timestamp.dt.hour"
   ]
  },
  {
   "cell_type": "markdown",
   "metadata": {},
   "source": [
    "Now we need to encode our new hour feature to reflect its cyclical nature. If we leave it as is, the variance calculation won't be accurate. The difference between midnight (0) and 11pm (23) isn't 23, it's 1! "
   ]
  },
  {
   "cell_type": "code",
   "execution_count": 1106,
   "metadata": {},
   "outputs": [
    {
     "data": {
      "text/html": [
       "<div>\n",
       "<style scoped>\n",
       "    .dataframe tbody tr th:only-of-type {\n",
       "        vertical-align: middle;\n",
       "    }\n",
       "\n",
       "    .dataframe tbody tr th {\n",
       "        vertical-align: top;\n",
       "    }\n",
       "\n",
       "    .dataframe thead th {\n",
       "        text-align: right;\n",
       "    }\n",
       "</style>\n",
       "<table border=\"1\" class=\"dataframe\">\n",
       "  <thead>\n",
       "    <tr style=\"text-align: right;\">\n",
       "      <th></th>\n",
       "      <th>hour_sin</th>\n",
       "      <th>hour_cos</th>\n",
       "    </tr>\n",
       "    <tr>\n",
       "      <th>hour</th>\n",
       "      <th></th>\n",
       "      <th></th>\n",
       "    </tr>\n",
       "  </thead>\n",
       "  <tbody>\n",
       "    <tr>\n",
       "      <th>0</th>\n",
       "      <td>0.000000</td>\n",
       "      <td>1.000000</td>\n",
       "    </tr>\n",
       "    <tr>\n",
       "      <th>23</th>\n",
       "      <td>-0.258819</td>\n",
       "      <td>0.965926</td>\n",
       "    </tr>\n",
       "  </tbody>\n",
       "</table>\n",
       "</div>"
      ],
      "text/plain": [
       "      hour_sin  hour_cos\n",
       "hour                    \n",
       "0     0.000000  1.000000\n",
       "23   -0.258819  0.965926"
      ]
     },
     "execution_count": 1106,
     "metadata": {},
     "output_type": "execute_result"
    }
   ],
   "source": [
    "def encode(data, col, max_val):\n",
    "    data[col + '_sin'] = np.sin(2 * np.pi * data[col]/max_val)\n",
    "    data[col + '_cos'] = np.cos(2 * np.pi * data[col]/max_val)\n",
    "    return data\n",
    "\n",
    "df = encode(df, 'hour', 24)\n",
    "df[(df['hour'] == 0) | (df['hour'] == 23)].groupby('hour').agg({'hour_sin': 'max','hour_cos': 'max'})"
   ]
  },
  {
   "cell_type": "markdown",
   "metadata": {},
   "source": [
    "Our hour values are now represented by pairs of coordinates on a circle. The values for midnight (0) and 11pm (23) are now very close to each other in magnitude. Now we can calculate the variance."
   ]
  },
  {
   "cell_type": "code",
   "execution_count": 1107,
   "metadata": {},
   "outputs": [
    {
     "data": {
      "text/html": [
       "<div>\n",
       "<style scoped>\n",
       "    .dataframe tbody tr th:only-of-type {\n",
       "        vertical-align: middle;\n",
       "    }\n",
       "\n",
       "    .dataframe tbody tr th {\n",
       "        vertical-align: top;\n",
       "    }\n",
       "\n",
       "    .dataframe thead th {\n",
       "        text-align: right;\n",
       "    }\n",
       "</style>\n",
       "<table border=\"1\" class=\"dataframe\">\n",
       "  <thead>\n",
       "    <tr style=\"text-align: right;\">\n",
       "      <th></th>\n",
       "      <th>is_bot</th>\n",
       "      <th>hour_sin</th>\n",
       "      <th>hour_cos</th>\n",
       "    </tr>\n",
       "    <tr>\n",
       "      <th>ip</th>\n",
       "      <th></th>\n",
       "      <th></th>\n",
       "      <th></th>\n",
       "    </tr>\n",
       "  </thead>\n",
       "  <tbody>\n",
       "    <tr>\n",
       "      <th>0222.110.101.9</th>\n",
       "      <td>True</td>\n",
       "      <td>0.571889</td>\n",
       "      <td>0.412448</td>\n",
       "    </tr>\n",
       "    <tr>\n",
       "      <th>0222.110.123.127</th>\n",
       "      <td>False</td>\n",
       "      <td>0.011455</td>\n",
       "      <td>0.338916</td>\n",
       "    </tr>\n",
       "    <tr>\n",
       "      <th>0222.110.144.37</th>\n",
       "      <td>False</td>\n",
       "      <td>0.004990</td>\n",
       "      <td>0.029084</td>\n",
       "    </tr>\n",
       "    <tr>\n",
       "      <th>0222.110.19.200</th>\n",
       "      <td>False</td>\n",
       "      <td>0.000000</td>\n",
       "      <td>0.000000</td>\n",
       "    </tr>\n",
       "    <tr>\n",
       "      <th>0222.110.51.241</th>\n",
       "      <td>True</td>\n",
       "      <td>0.532500</td>\n",
       "      <td>0.334137</td>\n",
       "    </tr>\n",
       "  </tbody>\n",
       "</table>\n",
       "</div>"
      ],
      "text/plain": [
       "                  is_bot  hour_sin  hour_cos\n",
       "ip                                          \n",
       "0222.110.101.9      True  0.571889  0.412448\n",
       "0222.110.123.127   False  0.011455  0.338916\n",
       "0222.110.144.37    False  0.004990  0.029084\n",
       "0222.110.19.200    False  0.000000  0.000000\n",
       "0222.110.51.241     True  0.532500  0.334137"
      ]
     },
     "execution_count": 1107,
     "metadata": {},
     "output_type": "execute_result"
    }
   ],
   "source": [
    "train_df = df.groupby('ip').agg({'is_bot': 'max', 'hour_sin': 'var', 'hour_cos': 'var'}).fillna(0.0)\n",
    "train_df.head()\n"
   ]
  },
  {
   "cell_type": "markdown",
   "metadata": {},
   "source": [
    "Let's peek at a couple of these and see if they validate our assumptions. Higher values in the variance columns should correlate with non-diurnal login patterns."
   ]
  },
  {
   "cell_type": "markdown",
   "metadata": {},
   "source": [
    "High (0.571889, 0.412448)"
   ]
  },
  {
   "cell_type": "code",
   "execution_count": 1108,
   "metadata": {},
   "outputs": [
    {
     "data": {
      "text/plain": [
       "1     2\n",
       "2     2\n",
       "5     2\n",
       "6     1\n",
       "7     1\n",
       "8     2\n",
       "13    1\n",
       "16    1\n",
       "17    1\n",
       "19    1\n",
       "22    1\n",
       "Name: hour, dtype: int64"
      ]
     },
     "execution_count": 1108,
     "metadata": {},
     "output_type": "execute_result"
    }
   ],
   "source": [
    "df[df['ip'] == '0222.110.101.9']['hour'].value_counts().sort_index()"
   ]
  },
  {
   "cell_type": "markdown",
   "metadata": {},
   "source": [
    "Low (0.011455, 0.338916)"
   ]
  },
  {
   "cell_type": "code",
   "execution_count": 1109,
   "metadata": {},
   "outputs": [
    {
     "data": {
      "text/plain": [
       "15    1\n",
       "16    1\n",
       "19    1\n",
       "20    1\n",
       "Name: hour, dtype: int64"
      ]
     },
     "execution_count": 1109,
     "metadata": {},
     "output_type": "execute_result"
    }
   ],
   "source": [
    "df[df['ip'] == '0222.110.123.127']['hour'].value_counts().sort_index()"
   ]
  },
  {
   "cell_type": "markdown",
   "metadata": {},
   "source": [
    "Success! Let's move on to the next feature."
   ]
  },
  {
   "cell_type": "markdown",
   "metadata": {},
   "source": [
    "## 2. Automated traffic volume has low variance over time"
   ]
  },
  {
   "cell_type": "markdown",
   "metadata": {},
   "source": [
    "The volume of automated traffic tends to remain constant between the time it starts and the time it ends. Human traffic varies much more. A good metric for measuring this is the variance of the time between login attempts. Automated traffic should exhibit lower variance than human traffic.\n",
    "\n",
    "$$𝑟𝑡=Δln𝑦𝑡≡ln𝑦𝑡−ln𝑦𝑡−1.$$\n"
   ]
  },
  {
   "cell_type": "code",
   "execution_count": 1110,
   "metadata": {},
   "outputs": [],
   "source": [
    "#df_count = df.groupby(['ip', 'timestamp_hour']).ip.agg('count').to_frame('login_count').reset_index()[['ip', 'timestamp_hour', 'login_count']].sort_values(['ip', 'timestamp_hour'], ascending=True)\n",
    "df['prev_ip'] = df.sort_values(['ip', '_timestamp'], ascending=True)['ip'].shift(1)\n",
    "df['prev_timestamp'] = df.sort_values(['ip', '_timestamp'], ascending=True)['_timestamp'].shift(1)\n",
    "df['timestamp_delta_var'] = (df[df['ip'] == df['prev_ip']]['_timestamp'] - df['prev_timestamp']).astype('timedelta64[s]')\n",
    "train_df = pd.merge(train_df, df.groupby('ip').timestamp_delta_var.var().fillna(0), on='ip', how='left')\n",
    "#df.groupby('ip').timestamp_delta.var().fillna(100)\n",
    "#df[df['ip'] =='0222.110.101.9']\n",
    "\n",
    "#df_count['login_count-1'] = df_count.login_count.shift(1).fillna(0)\n",
    "#df_count['login_count_delta'] = (df_count[df_count['ip'] == df_count['ip-1']]['login_count'] - df_count[df_count['ip'] == df_count['ip-1']]['login_count-1']) / df_count[df_count['ip'] == df_count['ip-1']]['login_count-1']\n",
    "#df_count['login_count_delta'].fillna(0, inplace=True)\n",
    "#df_count[df_count['ip'] == 'fc4e.224.35.165']\n",
    "#df_count = df_count.groupby('ip').login_count_delta.agg('var').fillna(0)\n",
    "#df_count"
   ]
  },
  {
   "cell_type": "markdown",
   "metadata": {},
   "source": [
    "## 3, 4 and 5. Automated traffic has: 1) High login volumes 2) High username volumes and 3) High rates of failure"
   ]
  },
  {
   "cell_type": "code",
   "execution_count": 1111,
   "metadata": {},
   "outputs": [],
   "source": [
    "#1) High login volumes\n",
    "train_df = pd.merge(train_df, df.groupby(['ip']).size().to_frame('login_attempt_count'), on='ip', how='left')\n",
    "\n",
    "#2) High credential volumes\n",
    "train_df = pd.merge(train_df, df.groupby(['ip'])['account'].nunique().to_frame('unique_username_count'), on='ip', how='left')\n",
    "\n",
    "#3) High failure rates\n",
    "train_df = pd.merge(train_df, df.groupby(['ip']).is_successful.sum().to_frame('login_success_count'), on='ip', how='left')\n",
    "\n",
    "train_df['login_success_rate'] = train_df.login_success_count / train_df.login_attempt_count\n"
   ]
  },
  {
   "cell_type": "code",
   "execution_count": 1112,
   "metadata": {},
   "outputs": [
    {
     "data": {
      "text/html": [
       "<div>\n",
       "<style scoped>\n",
       "    .dataframe tbody tr th:only-of-type {\n",
       "        vertical-align: middle;\n",
       "    }\n",
       "\n",
       "    .dataframe tbody tr th {\n",
       "        vertical-align: top;\n",
       "    }\n",
       "\n",
       "    .dataframe thead th {\n",
       "        text-align: right;\n",
       "    }\n",
       "</style>\n",
       "<table border=\"1\" class=\"dataframe\">\n",
       "  <thead>\n",
       "    <tr style=\"text-align: right;\">\n",
       "      <th></th>\n",
       "      <th>is_bot</th>\n",
       "      <th>hour_sin</th>\n",
       "      <th>hour_cos</th>\n",
       "      <th>timestamp_delta_var</th>\n",
       "      <th>login_attempt_count</th>\n",
       "      <th>unique_username_count</th>\n",
       "      <th>login_success_count</th>\n",
       "      <th>login_success_rate</th>\n",
       "    </tr>\n",
       "    <tr>\n",
       "      <th>ip</th>\n",
       "      <th></th>\n",
       "      <th></th>\n",
       "      <th></th>\n",
       "      <th></th>\n",
       "      <th></th>\n",
       "      <th></th>\n",
       "      <th></th>\n",
       "      <th></th>\n",
       "    </tr>\n",
       "  </thead>\n",
       "  <tbody>\n",
       "    <tr>\n",
       "      <th>0222.110.101.9</th>\n",
       "      <td>True</td>\n",
       "      <td>0.571889</td>\n",
       "      <td>0.412448</td>\n",
       "      <td>1.643726e+08</td>\n",
       "      <td>15</td>\n",
       "      <td>15</td>\n",
       "      <td>0</td>\n",
       "      <td>0.0</td>\n",
       "    </tr>\n",
       "    <tr>\n",
       "      <th>0222.110.123.127</th>\n",
       "      <td>False</td>\n",
       "      <td>0.011455</td>\n",
       "      <td>0.338916</td>\n",
       "      <td>3.146537e+07</td>\n",
       "      <td>4</td>\n",
       "      <td>4</td>\n",
       "      <td>0</td>\n",
       "      <td>0.0</td>\n",
       "    </tr>\n",
       "    <tr>\n",
       "      <th>0222.110.144.37</th>\n",
       "      <td>False</td>\n",
       "      <td>0.004990</td>\n",
       "      <td>0.029084</td>\n",
       "      <td>0.000000e+00</td>\n",
       "      <td>2</td>\n",
       "      <td>2</td>\n",
       "      <td>0</td>\n",
       "      <td>0.0</td>\n",
       "    </tr>\n",
       "    <tr>\n",
       "      <th>0222.110.19.200</th>\n",
       "      <td>False</td>\n",
       "      <td>0.000000</td>\n",
       "      <td>0.000000</td>\n",
       "      <td>0.000000e+00</td>\n",
       "      <td>1</td>\n",
       "      <td>1</td>\n",
       "      <td>0</td>\n",
       "      <td>0.0</td>\n",
       "    </tr>\n",
       "    <tr>\n",
       "      <th>0222.110.51.241</th>\n",
       "      <td>True</td>\n",
       "      <td>0.532500</td>\n",
       "      <td>0.334137</td>\n",
       "      <td>6.852461e+07</td>\n",
       "      <td>23</td>\n",
       "      <td>23</td>\n",
       "      <td>0</td>\n",
       "      <td>0.0</td>\n",
       "    </tr>\n",
       "  </tbody>\n",
       "</table>\n",
       "</div>"
      ],
      "text/plain": [
       "                  is_bot  hour_sin  hour_cos  timestamp_delta_var  \\\n",
       "ip                                                                  \n",
       "0222.110.101.9      True  0.571889  0.412448         1.643726e+08   \n",
       "0222.110.123.127   False  0.011455  0.338916         3.146537e+07   \n",
       "0222.110.144.37    False  0.004990  0.029084         0.000000e+00   \n",
       "0222.110.19.200    False  0.000000  0.000000         0.000000e+00   \n",
       "0222.110.51.241     True  0.532500  0.334137         6.852461e+07   \n",
       "\n",
       "                  login_attempt_count  unique_username_count  \\\n",
       "ip                                                             \n",
       "0222.110.101.9                     15                     15   \n",
       "0222.110.123.127                    4                      4   \n",
       "0222.110.144.37                     2                      2   \n",
       "0222.110.19.200                     1                      1   \n",
       "0222.110.51.241                    23                     23   \n",
       "\n",
       "                  login_success_count  login_success_rate  \n",
       "ip                                                         \n",
       "0222.110.101.9                      0                 0.0  \n",
       "0222.110.123.127                    0                 0.0  \n",
       "0222.110.144.37                     0                 0.0  \n",
       "0222.110.19.200                     0                 0.0  \n",
       "0222.110.51.241                     0                 0.0  "
      ]
     },
     "execution_count": 1112,
     "metadata": {},
     "output_type": "execute_result"
    }
   ],
   "source": [
    "train_df.head()"
   ]
  },
  {
   "cell_type": "code",
   "execution_count": 1113,
   "metadata": {},
   "outputs": [
    {
     "ename": "SyntaxError",
     "evalue": "invalid syntax (<ipython-input-1113-c69f30026b9f>, line 1)",
     "output_type": "error",
     "traceback": [
      "\u001b[0;36m  File \u001b[0;32m\"<ipython-input-1113-c69f30026b9f>\"\u001b[0;36m, line \u001b[0;32m1\u001b[0m\n\u001b[0;31m    Time to train and test the model.\u001b[0m\n\u001b[0m          ^\u001b[0m\n\u001b[0;31mSyntaxError\u001b[0m\u001b[0;31m:\u001b[0m invalid syntax\n"
     ]
    }
   ],
   "source": [
    "Time to train and test the model."
   ]
  },
  {
   "cell_type": "code",
   "execution_count": null,
   "metadata": {},
   "outputs": [],
   "source": [
    "x_train, x_test, y_train, y_test = train_test_split(train_df.drop('is_bot', axis=1), train_df.is_bot, test_size=0.2, random_state=1337, stratify=train_df.is_bot)\n"
   ]
  },
  {
   "cell_type": "code",
   "execution_count": null,
   "metadata": {},
   "outputs": [],
   "source": [
    "clf = LogisticRegression(C=1.0,\n",
    "          dual=False, fit_intercept=True, intercept_scaling=1,\n",
    "          max_iter=100, multi_class=u'ovr', n_jobs=None, penalty='l2',\n",
    "          random_state=1337, solver='liblinear', tol=0.0001, verbose=0,\n",
    "          warm_start=False)"
   ]
  },
  {
   "cell_type": "code",
   "execution_count": null,
   "metadata": {},
   "outputs": [],
   "source": [
    "clf.fit(x_train, y_train)"
   ]
  },
  {
   "cell_type": "code",
   "execution_count": null,
   "metadata": {},
   "outputs": [],
   "source": [
    "predictions = clf.predict(x_test)"
   ]
  },
  {
   "cell_type": "code",
   "execution_count": null,
   "metadata": {},
   "outputs": [],
   "source": [
    "cm = metrics.confusion_matrix(y_test, predictions)\n",
    "score = clf.score(x_test, y_test)\n",
    "\n",
    "plt.figure(figsize=(9,9))\n",
    "sns.heatmap(cm, annot=True, fmt=\".3f\", linewidths=.5, square = True, cmap = 'Blues_r');\n",
    "plt.ylabel('Actual label');\n",
    "plt.xlabel('Predicted label');\n",
    "all_sample_title = 'Accuracy Score: {0}'.format(score)\n",
    "plt.title(all_sample_title, size = 15);"
   ]
  },
  {
   "cell_type": "markdown",
   "metadata": {},
   "source": [
    "## 1. A list of signatures for the automated traffic."
   ]
  },
  {
   "cell_type": "code",
   "execution_count": null,
   "metadata": {},
   "outputs": [],
   "source": [
    "train_df.drop('is_bot', axis=1).dtypes"
   ]
  },
  {
   "cell_type": "code",
   "execution_count": null,
   "metadata": {},
   "outputs": [],
   "source": [
    "#pd.set_option('display.max_rows', 50)\n",
    "#train_df.to_csv(path_or_buf='/Users/sthomas/Shape Security/training_data.csv', index=True)"
   ]
  }
 ],
 "metadata": {
  "kernelspec": {
   "display_name": "Python 3",
   "language": "python",
   "name": "python3"
  },
  "language_info": {
   "codemirror_mode": {
    "name": "ipython",
    "version": 3
   },
   "file_extension": ".py",
   "mimetype": "text/x-python",
   "name": "python",
   "nbconvert_exporter": "python",
   "pygments_lexer": "ipython3",
   "version": "3.7.3"
  }
 },
 "nbformat": 4,
 "nbformat_minor": 2
}
